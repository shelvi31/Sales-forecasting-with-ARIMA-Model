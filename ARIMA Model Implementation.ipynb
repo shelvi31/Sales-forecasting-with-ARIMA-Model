{
 "cells": [
  {
   "cell_type": "code",
   "execution_count": 97,
   "id": "54d83de6",
   "metadata": {},
   "outputs": [
    {
     "name": "stderr",
     "output_type": "stream",
     "text": [
      "<ipython-input-97-cc39d131a0d4>:12: FutureWarning: The pandas.datetime class is deprecated and will be removed from pandas in a future version. Import from datetime module instead.\n",
      "  from pandas import datetime\n"
     ]
    }
   ],
   "source": [
    "import pandas as pd\n",
    "import numpy as np\n",
    "import seaborn as sns\n",
    "import matplotlib.pyplot as plt\n",
    "import pandas_profiling\n",
    "\n",
    "from sklearn.ensemble import RandomForestRegressor\n",
    "import xgboost as xg\n",
    "\n",
    "from sklearn.model_selection import train_test_split\n",
    "import stats\n",
    "from pandas import datetime"
   ]
  },
  {
   "cell_type": "code",
   "execution_count": 98,
   "id": "8e48412d",
   "metadata": {},
   "outputs": [],
   "source": [
    "train = pd.read_csv(\"TRAIN.csv\",parse_dates=True)\n",
    "test = pd.read_csv(\"TEST_FINAL.csv\",parse_dates=True)"
   ]
  },
  {
   "cell_type": "code",
   "execution_count": 99,
   "id": "897921b6",
   "metadata": {},
   "outputs": [
    {
     "data": {
      "text/html": [
       "<div>\n",
       "<style scoped>\n",
       "    .dataframe tbody tr th:only-of-type {\n",
       "        vertical-align: middle;\n",
       "    }\n",
       "\n",
       "    .dataframe tbody tr th {\n",
       "        vertical-align: top;\n",
       "    }\n",
       "\n",
       "    .dataframe thead th {\n",
       "        text-align: right;\n",
       "    }\n",
       "</style>\n",
       "<table border=\"1\" class=\"dataframe\">\n",
       "  <thead>\n",
       "    <tr style=\"text-align: right;\">\n",
       "      <th></th>\n",
       "      <th>ID</th>\n",
       "      <th>Store_id</th>\n",
       "      <th>Store_Type</th>\n",
       "      <th>Location_Type</th>\n",
       "      <th>Region_Code</th>\n",
       "      <th>Date</th>\n",
       "      <th>Holiday</th>\n",
       "      <th>Discount</th>\n",
       "      <th>#Order</th>\n",
       "      <th>Sales</th>\n",
       "    </tr>\n",
       "  </thead>\n",
       "  <tbody>\n",
       "    <tr>\n",
       "      <th>0</th>\n",
       "      <td>T1000001</td>\n",
       "      <td>1</td>\n",
       "      <td>S1</td>\n",
       "      <td>L3</td>\n",
       "      <td>R1</td>\n",
       "      <td>2018-01-01</td>\n",
       "      <td>1</td>\n",
       "      <td>Yes</td>\n",
       "      <td>9</td>\n",
       "      <td>7011.84</td>\n",
       "    </tr>\n",
       "    <tr>\n",
       "      <th>1</th>\n",
       "      <td>T1000002</td>\n",
       "      <td>253</td>\n",
       "      <td>S4</td>\n",
       "      <td>L2</td>\n",
       "      <td>R1</td>\n",
       "      <td>2018-01-01</td>\n",
       "      <td>1</td>\n",
       "      <td>Yes</td>\n",
       "      <td>60</td>\n",
       "      <td>51789.12</td>\n",
       "    </tr>\n",
       "  </tbody>\n",
       "</table>\n",
       "</div>"
      ],
      "text/plain": [
       "         ID  Store_id Store_Type Location_Type Region_Code       Date  \\\n",
       "0  T1000001         1         S1            L3          R1 2018-01-01   \n",
       "1  T1000002       253         S4            L2          R1 2018-01-01   \n",
       "\n",
       "   Holiday Discount  #Order     Sales  \n",
       "0        1      Yes       9   7011.84  \n",
       "1        1      Yes      60  51789.12  "
      ]
     },
     "execution_count": 99,
     "metadata": {},
     "output_type": "execute_result"
    }
   ],
   "source": [
    "train['Date'] =  pd.to_datetime(train['Date'])\n",
    "# train.set_index(\"Date\",inplace=True)\n",
    "train.head(2)"
   ]
  },
  {
   "cell_type": "code",
   "execution_count": null,
   "id": "c3fa129a",
   "metadata": {},
   "outputs": [],
   "source": []
  },
  {
   "cell_type": "code",
   "execution_count": 100,
   "id": "a8a2a26e",
   "metadata": {},
   "outputs": [],
   "source": [
    "#Leaving date and label column out of category encoding\n",
    "y = train[[\"Sales\",\"Date\"]]\n",
    "train_new = train.drop([\"Sales\",\"Date\",\"ID\"],axis=1)\n",
    "\n",
    "y1 = test[[\"Date\"]]\n",
    "test_new = test.drop([\"Date\",\"ID\"],axis=1)"
   ]
  },
  {
   "cell_type": "code",
   "execution_count": 101,
   "id": "fe8001d3",
   "metadata": {},
   "outputs": [
    {
     "data": {
      "text/html": [
       "<div>\n",
       "<style scoped>\n",
       "    .dataframe tbody tr th:only-of-type {\n",
       "        vertical-align: middle;\n",
       "    }\n",
       "\n",
       "    .dataframe tbody tr th {\n",
       "        vertical-align: top;\n",
       "    }\n",
       "\n",
       "    .dataframe thead th {\n",
       "        text-align: right;\n",
       "    }\n",
       "</style>\n",
       "<table border=\"1\" class=\"dataframe\">\n",
       "  <thead>\n",
       "    <tr style=\"text-align: right;\">\n",
       "      <th></th>\n",
       "      <th>Store_id</th>\n",
       "      <th>Store_Type</th>\n",
       "      <th>Location_Type</th>\n",
       "      <th>Region_Code</th>\n",
       "      <th>Holiday</th>\n",
       "      <th>Discount</th>\n",
       "      <th>#Order</th>\n",
       "    </tr>\n",
       "  </thead>\n",
       "  <tbody>\n",
       "    <tr>\n",
       "      <th>0</th>\n",
       "      <td>1</td>\n",
       "      <td>S1</td>\n",
       "      <td>L3</td>\n",
       "      <td>R1</td>\n",
       "      <td>1</td>\n",
       "      <td>Yes</td>\n",
       "      <td>9</td>\n",
       "    </tr>\n",
       "    <tr>\n",
       "      <th>1</th>\n",
       "      <td>253</td>\n",
       "      <td>S4</td>\n",
       "      <td>L2</td>\n",
       "      <td>R1</td>\n",
       "      <td>1</td>\n",
       "      <td>Yes</td>\n",
       "      <td>60</td>\n",
       "    </tr>\n",
       "  </tbody>\n",
       "</table>\n",
       "</div>"
      ],
      "text/plain": [
       "   Store_id Store_Type Location_Type Region_Code  Holiday Discount  #Order\n",
       "0         1         S1            L3          R1        1      Yes       9\n",
       "1       253         S4            L2          R1        1      Yes      60"
      ]
     },
     "execution_count": 101,
     "metadata": {},
     "output_type": "execute_result"
    }
   ],
   "source": [
    "train_new.head(2)"
   ]
  },
  {
   "cell_type": "code",
   "execution_count": 102,
   "id": "78b7129d",
   "metadata": {},
   "outputs": [
    {
     "data": {
      "text/plain": [
       "array(['Store_id', 'Holiday', '#Order'], dtype=object)"
      ]
     },
     "execution_count": 102,
     "metadata": {},
     "output_type": "execute_result"
    }
   ],
   "source": [
    "#We have 2 types of data in our dataset : int64 and object\n",
    "\n",
    "train_categorical = train_new.select_dtypes(exclude = ['int64'])\n",
    "test_categorical = test_new.select_dtypes(exclude = ['int64'])\n",
    "\n",
    "train_numerical = train_new.select_dtypes(include = ['int64'])\n",
    "test_numerical = test_new.select_dtypes(include = ['int64'])\n",
    "\n",
    "#Defining column names for numerical data\n",
    "numcol_names_train = train_numerical.columns.values\n",
    "numcol_names_test = test_numerical.columns.values\n",
    "numcol_names_train"
   ]
  },
  {
   "cell_type": "markdown",
   "id": "e804806a",
   "metadata": {},
   "source": [
    "#### Label encoding"
   ]
  },
  {
   "cell_type": "code",
   "execution_count": 103,
   "id": "2639a065",
   "metadata": {},
   "outputs": [
    {
     "data": {
      "text/html": [
       "<div>\n",
       "<style scoped>\n",
       "    .dataframe tbody tr th:only-of-type {\n",
       "        vertical-align: middle;\n",
       "    }\n",
       "\n",
       "    .dataframe tbody tr th {\n",
       "        vertical-align: top;\n",
       "    }\n",
       "\n",
       "    .dataframe thead th {\n",
       "        text-align: right;\n",
       "    }\n",
       "</style>\n",
       "<table border=\"1\" class=\"dataframe\">\n",
       "  <thead>\n",
       "    <tr style=\"text-align: right;\">\n",
       "      <th></th>\n",
       "      <th>Store_Type</th>\n",
       "      <th>Location_Type</th>\n",
       "      <th>Region_Code</th>\n",
       "      <th>Discount</th>\n",
       "      <th>Store_id</th>\n",
       "      <th>Holiday</th>\n",
       "      <th>#Order</th>\n",
       "      <th>Sales</th>\n",
       "      <th>Date</th>\n",
       "    </tr>\n",
       "  </thead>\n",
       "  <tbody>\n",
       "    <tr>\n",
       "      <th>0</th>\n",
       "      <td>0</td>\n",
       "      <td>2</td>\n",
       "      <td>0</td>\n",
       "      <td>1</td>\n",
       "      <td>1</td>\n",
       "      <td>1</td>\n",
       "      <td>9</td>\n",
       "      <td>7011.84</td>\n",
       "      <td>2018-01-01</td>\n",
       "    </tr>\n",
       "    <tr>\n",
       "      <th>1</th>\n",
       "      <td>3</td>\n",
       "      <td>1</td>\n",
       "      <td>0</td>\n",
       "      <td>1</td>\n",
       "      <td>253</td>\n",
       "      <td>1</td>\n",
       "      <td>60</td>\n",
       "      <td>51789.12</td>\n",
       "      <td>2018-01-01</td>\n",
       "    </tr>\n",
       "  </tbody>\n",
       "</table>\n",
       "</div>"
      ],
      "text/plain": [
       "   Store_Type  Location_Type  Region_Code  Discount  Store_id  Holiday  \\\n",
       "0           0              2            0         1         1        1   \n",
       "1           3              1            0         1       253        1   \n",
       "\n",
       "   #Order     Sales       Date  \n",
       "0       9   7011.84 2018-01-01  \n",
       "1      60  51789.12 2018-01-01  "
      ]
     },
     "execution_count": 103,
     "metadata": {},
     "output_type": "execute_result"
    }
   ],
   "source": [
    "from sklearn.preprocessing import LabelEncoder\n",
    "\n",
    "train_categorical = train_categorical.apply(LabelEncoder().fit_transform)\n",
    "test_categorical = test_categorical.apply(LabelEncoder().fit_transform)\n",
    "\n",
    "#Combining the Numnerical and Categorical Database\n",
    "train_new= pd.concat([train_categorical,train_numerical,y],axis=1)\n",
    "\n",
    "test_new = pd.concat([test_categorical,test_numerical,y1],axis=1)\n",
    "train_new.head(2)"
   ]
  },
  {
   "cell_type": "code",
   "execution_count": 104,
   "id": "aeb2ddee",
   "metadata": {},
   "outputs": [
    {
     "data": {
      "text/html": [
       "<div>\n",
       "<style scoped>\n",
       "    .dataframe tbody tr th:only-of-type {\n",
       "        vertical-align: middle;\n",
       "    }\n",
       "\n",
       "    .dataframe tbody tr th {\n",
       "        vertical-align: top;\n",
       "    }\n",
       "\n",
       "    .dataframe thead th {\n",
       "        text-align: right;\n",
       "    }\n",
       "</style>\n",
       "<table border=\"1\" class=\"dataframe\">\n",
       "  <thead>\n",
       "    <tr style=\"text-align: right;\">\n",
       "      <th></th>\n",
       "      <th>Store_Type</th>\n",
       "      <th>Location_Type</th>\n",
       "      <th>Region_Code</th>\n",
       "      <th>Discount</th>\n",
       "      <th>Store_id</th>\n",
       "      <th>Holiday</th>\n",
       "      <th>Sales</th>\n",
       "      <th>Date</th>\n",
       "    </tr>\n",
       "  </thead>\n",
       "  <tbody>\n",
       "    <tr>\n",
       "      <th>0</th>\n",
       "      <td>0</td>\n",
       "      <td>2</td>\n",
       "      <td>0</td>\n",
       "      <td>1</td>\n",
       "      <td>1</td>\n",
       "      <td>1</td>\n",
       "      <td>7011.84</td>\n",
       "      <td>2018-01-01</td>\n",
       "    </tr>\n",
       "    <tr>\n",
       "      <th>1</th>\n",
       "      <td>3</td>\n",
       "      <td>1</td>\n",
       "      <td>0</td>\n",
       "      <td>1</td>\n",
       "      <td>253</td>\n",
       "      <td>1</td>\n",
       "      <td>51789.12</td>\n",
       "      <td>2018-01-01</td>\n",
       "    </tr>\n",
       "  </tbody>\n",
       "</table>\n",
       "</div>"
      ],
      "text/plain": [
       "   Store_Type  Location_Type  Region_Code  Discount  Store_id  Holiday  \\\n",
       "0           0              2            0         1         1        1   \n",
       "1           3              1            0         1       253        1   \n",
       "\n",
       "      Sales       Date  \n",
       "0   7011.84 2018-01-01  \n",
       "1  51789.12 2018-01-01  "
      ]
     },
     "execution_count": 104,
     "metadata": {},
     "output_type": "execute_result"
    }
   ],
   "source": [
    "#Removing order as it will not be present in test dataset\n",
    "train_new.drop([\"#Order\"],axis=1,inplace=True)\n",
    "train_new.head(2)"
   ]
  },
  {
   "cell_type": "code",
   "execution_count": 105,
   "id": "42f22d5b",
   "metadata": {},
   "outputs": [
    {
     "data": {
      "text/plain": [
       "Store_id\n",
       "1      516\n",
       "2      516\n",
       "3      516\n",
       "4      516\n",
       "5      516\n",
       "      ... \n",
       "361    516\n",
       "362    516\n",
       "363    516\n",
       "364    516\n",
       "365    516\n",
       "Name: Store_id, Length: 365, dtype: int64"
      ]
     },
     "execution_count": 105,
     "metadata": {},
     "output_type": "execute_result"
    }
   ],
   "source": [
    "#Identifyng  data with similar parameters together\n",
    "\n",
    "train2 = train_new.groupby(['Store_id'])[\"Store_id\"].count()\n",
    "\n",
    "train2"
   ]
  },
  {
   "cell_type": "code",
   "execution_count": 134,
   "id": "55fc0eac",
   "metadata": {},
   "outputs": [
    {
     "data": {
      "image/png": "[encoded data removed]",
      "text/plain": [
       "<Figure size 720x360 with 1 Axes>"
      ]
     },
     "metadata": {
      "needs_background": "light"
     },
     "output_type": "display_data"
    }
   ],
   "source": [
    "train2 = train_new[train_new[\"Store_id\"] == 1]\n",
    "train2\n",
    "\n",
    "plt.scatter(train2.Date,train2.Sales)\n",
    "plt.show()"
   ]
  },
  {
   "cell_type": "code",
   "execution_count": 174,
   "id": "c4d9deb4",
   "metadata": {},
   "outputs": [
    {
     "data": {
      "text/html": [
       "<div>\n",
       "<style scoped>\n",
       "    .dataframe tbody tr th:only-of-type {\n",
       "        vertical-align: middle;\n",
       "    }\n",
       "\n",
       "    .dataframe tbody tr th {\n",
       "        vertical-align: top;\n",
       "    }\n",
       "\n",
       "    .dataframe thead th {\n",
       "        text-align: right;\n",
       "    }\n",
       "</style>\n",
       "<table border=\"1\" class=\"dataframe\">\n",
       "  <thead>\n",
       "    <tr style=\"text-align: right;\">\n",
       "      <th></th>\n",
       "      <th>Store_Type</th>\n",
       "      <th>Location_Type</th>\n",
       "      <th>Region_Code</th>\n",
       "      <th>Discount</th>\n",
       "      <th>Store_id</th>\n",
       "      <th>Holiday</th>\n",
       "      <th>Sales</th>\n",
       "      <th>Date</th>\n",
       "    </tr>\n",
       "  </thead>\n",
       "  <tbody>\n",
       "    <tr>\n",
       "      <th>0</th>\n",
       "      <td>0</td>\n",
       "      <td>2</td>\n",
       "      <td>0</td>\n",
       "      <td>1</td>\n",
       "      <td>1</td>\n",
       "      <td>1</td>\n",
       "      <td>7011.84</td>\n",
       "      <td>2018-01-01</td>\n",
       "    </tr>\n",
       "    <tr>\n",
       "      <th>607</th>\n",
       "      <td>0</td>\n",
       "      <td>2</td>\n",
       "      <td>0</td>\n",
       "      <td>1</td>\n",
       "      <td>1</td>\n",
       "      <td>0</td>\n",
       "      <td>42369.00</td>\n",
       "      <td>2018-01-02</td>\n",
       "    </tr>\n",
       "    <tr>\n",
       "      <th>1046</th>\n",
       "      <td>0</td>\n",
       "      <td>2</td>\n",
       "      <td>0</td>\n",
       "      <td>1</td>\n",
       "      <td>1</td>\n",
       "      <td>0</td>\n",
       "      <td>50037.00</td>\n",
       "      <td>2018-01-03</td>\n",
       "    </tr>\n",
       "    <tr>\n",
       "      <th>1207</th>\n",
       "      <td>0</td>\n",
       "      <td>2</td>\n",
       "      <td>0</td>\n",
       "      <td>1</td>\n",
       "      <td>1</td>\n",
       "      <td>0</td>\n",
       "      <td>44397.00</td>\n",
       "      <td>2018-01-04</td>\n",
       "    </tr>\n",
       "    <tr>\n",
       "      <th>1752</th>\n",
       "      <td>0</td>\n",
       "      <td>2</td>\n",
       "      <td>0</td>\n",
       "      <td>1</td>\n",
       "      <td>1</td>\n",
       "      <td>0</td>\n",
       "      <td>47604.00</td>\n",
       "      <td>2018-01-05</td>\n",
       "    </tr>\n",
       "    <tr>\n",
       "      <th>...</th>\n",
       "      <td>...</td>\n",
       "      <td>...</td>\n",
       "      <td>...</td>\n",
       "      <td>...</td>\n",
       "      <td>...</td>\n",
       "      <td>...</td>\n",
       "      <td>...</td>\n",
       "      <td>...</td>\n",
       "    </tr>\n",
       "    <tr>\n",
       "      <th>186569</th>\n",
       "      <td>0</td>\n",
       "      <td>2</td>\n",
       "      <td>0</td>\n",
       "      <td>1</td>\n",
       "      <td>1</td>\n",
       "      <td>0</td>\n",
       "      <td>33075.00</td>\n",
       "      <td>2019-05-27</td>\n",
       "    </tr>\n",
       "    <tr>\n",
       "      <th>187165</th>\n",
       "      <td>0</td>\n",
       "      <td>2</td>\n",
       "      <td>0</td>\n",
       "      <td>1</td>\n",
       "      <td>1</td>\n",
       "      <td>0</td>\n",
       "      <td>37317.00</td>\n",
       "      <td>2019-05-28</td>\n",
       "    </tr>\n",
       "    <tr>\n",
       "      <th>187391</th>\n",
       "      <td>0</td>\n",
       "      <td>2</td>\n",
       "      <td>0</td>\n",
       "      <td>1</td>\n",
       "      <td>1</td>\n",
       "      <td>0</td>\n",
       "      <td>44652.00</td>\n",
       "      <td>2019-05-29</td>\n",
       "    </tr>\n",
       "    <tr>\n",
       "      <th>187962</th>\n",
       "      <td>0</td>\n",
       "      <td>2</td>\n",
       "      <td>0</td>\n",
       "      <td>1</td>\n",
       "      <td>1</td>\n",
       "      <td>0</td>\n",
       "      <td>42387.00</td>\n",
       "      <td>2019-05-30</td>\n",
       "    </tr>\n",
       "    <tr>\n",
       "      <th>188113</th>\n",
       "      <td>0</td>\n",
       "      <td>2</td>\n",
       "      <td>0</td>\n",
       "      <td>1</td>\n",
       "      <td>1</td>\n",
       "      <td>1</td>\n",
       "      <td>39843.78</td>\n",
       "      <td>2019-05-31</td>\n",
       "    </tr>\n",
       "  </tbody>\n",
       "</table>\n",
       "<p>516 rows × 8 columns</p>\n",
       "</div>"
      ],
      "text/plain": [
       "        Store_Type  Location_Type  Region_Code  Discount  Store_id  Holiday  \\\n",
       "0                0              2            0         1         1        1   \n",
       "607              0              2            0         1         1        0   \n",
       "1046             0              2            0         1         1        0   \n",
       "1207             0              2            0         1         1        0   \n",
       "1752             0              2            0         1         1        0   \n",
       "...            ...            ...          ...       ...       ...      ...   \n",
       "186569           0              2            0         1         1        0   \n",
       "187165           0              2            0         1         1        0   \n",
       "187391           0              2            0         1         1        0   \n",
       "187962           0              2            0         1         1        0   \n",
       "188113           0              2            0         1         1        1   \n",
       "\n",
       "           Sales       Date  \n",
       "0        7011.84 2018-01-01  \n",
       "607     42369.00 2018-01-02  \n",
       "1046    50037.00 2018-01-03  \n",
       "1207    44397.00 2018-01-04  \n",
       "1752    47604.00 2018-01-05  \n",
       "...          ...        ...  \n",
       "186569  33075.00 2019-05-27  \n",
       "187165  37317.00 2019-05-28  \n",
       "187391  44652.00 2019-05-29  \n",
       "187962  42387.00 2019-05-30  \n",
       "188113  39843.78 2019-05-31  \n",
       "\n",
       "[516 rows x 8 columns]"
      ]
     },
     "execution_count": 174,
     "metadata": {},
     "output_type": "execute_result"
    }
   ],
   "source": [
    "train_new.query(\"Store_id==1\")"
   ]
  },
  {
   "cell_type": "code",
   "execution_count": 109,
   "id": "c83bccca",
   "metadata": {},
   "outputs": [
    {
     "data": {
      "text/plain": [
       "<AxesSubplot:xlabel='Date'>"
      ]
     },
     "execution_count": 109,
     "metadata": {},
     "output_type": "execute_result"
    },
    {
     "data": {
      "image/png": "[encoded data removed]",
      "text/plain": [
       "<Figure size 720x360 with 1 Axes>"
      ]
     },
     "metadata": {
      "needs_background": "light"
     },
     "output_type": "display_data"
    }
   ],
   "source": [
    "# Updating the header\n",
    "\n",
    "data1 = train_new[(train_new[\"Store_id\"] == 1)]\n",
    "data11 = data1[[\"Sales\",\"Date\"]]\n",
    "data11.columns=[\"Sales\",\"Date\"]\n",
    "\n",
    "data11 = data11.set_index('Date')\n",
    "\n",
    "from pylab import rcParams\n",
    "rcParams['figure.figsize'] = 10, 5\n",
    "data11.plot()"
   ]
  },
  {
   "cell_type": "markdown",
   "id": "0c329134",
   "metadata": {},
   "source": [
    "#### For ARIMA first thing we do is identify if the data is stationary or non – stationary. if data is non-stationary we will try to make them stationary then we will process further."
   ]
  },
  {
   "cell_type": "code",
   "execution_count": 67,
   "id": "eba83a3b",
   "metadata": {},
   "outputs": [],
   "source": [
    "from statsmodels.tsa.stattools import adfuller"
   ]
  },
  {
   "cell_type": "code",
   "execution_count": 110,
   "id": "fb68ebeb",
   "metadata": {},
   "outputs": [],
   "source": []
  },
  {
   "cell_type": "markdown",
   "id": "f4aad237",
   "metadata": {},
   "source": [
    "- Ho: It is non-stationary\n",
    "- H1: It is stationary\n",
    "\n",
    "We will be considering the null hypothesis that data is not stationary and the alternate hypothesis that data is stationary."
   ]
  },
  {
   "cell_type": "code",
   "execution_count": 177,
   "id": "f6d17c9f",
   "metadata": {},
   "outputs": [],
   "source": [
    "test_result = adfuller(data11['Sales'])\n",
    "\n",
    "def adfuller_test(sales):\n",
    "    result = adfuller(sales)\n",
    "    labels = ['ADF Test Statistic','p-value','#Lags Used','Number of Observations']\n",
    "    for value,label in zip(result,labels):\n",
    "        print(label+' : '+str(value) )\n",
    "\n",
    "    if result[1] <= 0.05:\n",
    "        print(\"Data is stationary\")\n",
    "    else:\n",
    "        print(\"Data is non-stationary \")\n",
    "        \n",
    "    "
   ]
  },
  {
   "cell_type": "code",
   "execution_count": 112,
   "id": "cc127fc4",
   "metadata": {},
   "outputs": [
    {
     "name": "stdout",
     "output_type": "stream",
     "text": [
      "ADF Test Statistic : -4.089691325020226\n",
      "p-value : 0.0010072301346594633\n",
      "#Lags Used : 13\n",
      "Number of Observations : 502\n"
     ]
    }
   ],
   "source": [
    "adfuller_test(data11['Sales'])"
   ]
  },
  {
   "cell_type": "markdown",
   "id": "03bca622",
   "metadata": {},
   "source": [
    "#### Auto Regressive Model"
   ]
  },
  {
   "cell_type": "code",
   "execution_count": 114,
   "id": "f1cc1f24",
   "metadata": {},
   "outputs": [
    {
     "data": {
      "image/png": "[encoded data removed]",
      "text/plain": [
       "<Figure size 720x360 with 1 Axes>"
      ]
     },
     "metadata": {
      "needs_background": "light"
     },
     "output_type": "display_data"
    }
   ],
   "source": [
    "from pandas.plotting import autocorrelation_plot\n",
    "autocorrelation_plot(data11['Sales'])\n",
    "plt.show()"
   ]
  },
  {
   "cell_type": "code",
   "execution_count": 115,
   "id": "51aeb98c",
   "metadata": {},
   "outputs": [],
   "source": [
    "import statsmodels\n",
    "import statsmodels.api as sm\n",
    "from statsmodels.graphics.tsaplots import plot_acf,plot_pacf"
   ]
  },
  {
   "cell_type": "code",
   "execution_count": 116,
   "id": "b8c5b83f",
   "metadata": {},
   "outputs": [
    {
     "data": {
      "image/png": "[encoded data removed]",
      "text/plain": [
       "<Figure size 864x576 with 2 Axes>"
      ]
     },
     "metadata": {
      "needs_background": "light"
     },
     "output_type": "display_data"
    }
   ],
   "source": [
    "fig = plt.figure(figsize=(12,8))\n",
    "ax1 = fig.add_subplot(211)\n",
    "fig = sm.graphics.tsa.plot_acf(data11['Sales'].iloc[13:],lags=40,ax=ax1)\n",
    "ax2 = fig.add_subplot(212)\n",
    "fig = sm.graphics.tsa.plot_pacf(data11['Sales'].iloc[13:],lags=40,ax=ax2)"
   ]
  },
  {
   "cell_type": "code",
   "execution_count": null,
   "id": "78eb63a9",
   "metadata": {},
   "outputs": [],
   "source": [
    "#p = 2 or 1 , q =1 or 0 , d= 0\n",
    "#Non-seasonal ARIMA models are generally denoted ARIMA(p,d,q) where parameters p, d, and q are non-negative integers,"
   ]
  },
  {
   "cell_type": "code",
   "execution_count": 142,
   "id": "cf1fdd4c",
   "metadata": {},
   "outputs": [],
   "source": [
    "from statsmodels.tsa.arima_model import ARIMA\n",
    "import warnings\n",
    "warnings.filterwarnings(\"ignore\")"
   ]
  },
  {
   "cell_type": "code",
   "execution_count": 154,
   "id": "47189ae2",
   "metadata": {},
   "outputs": [],
   "source": [
    "def prediction_for_store(store_id=None, train_new = train_new, test_new = test_new):\n",
    "    train = train_new[(train_new[\"Store_id\"] == store_id)]\n",
    "    train = train[[\"Sales\",\"Date\"]]\n",
    "    train.columns=[\"Sales\",\"Date\"]\n",
    "    train = train.set_index('Date')\n",
    "    \n",
    "    test = test_new[(test_new[\"Store_id\"] == store_id)]\n",
    "    \n",
    "    test_result = adfuller(train['Sales'])\n",
    "    \n",
    "    start = len(train)\n",
    "    end = len(train) + len(test) - 1\n",
    "\n",
    "    p_values = range(1,2)\n",
    "    d_values = range(0,1)\n",
    "    q_values = range(0,1)\n",
    "    \n",
    "    \n",
    "    prediction_store = []\n",
    "    for p in p_values:\n",
    "        for d in d_values:\n",
    "            for q in q_values:\n",
    "                order = (p,d,q)\n",
    "                for i in range(len(test)):\n",
    "                    try:\n",
    "                        model=ARIMA(train['Sales'],order)\n",
    "                        model_fit=model.fit(disp=0)\n",
    "                        pred_y = model_fit.forecast()[0]\n",
    "                        prediction_store.append(pred_y)\n",
    "                    except:\n",
    "                        continue\n",
    "    return prediction_store"
   ]
  },
  {
   "cell_type": "code",
   "execution_count": null,
   "id": "66dc2975",
   "metadata": {},
   "outputs": [],
   "source": [
    "predictions = []\n",
    "for i in range(365):\n",
    "    pred = prediction_for_store(i+1)\n",
    "    predictions.append(pred)"
   ]
  },
  {
   "cell_type": "code",
   "execution_count": null,
   "id": "a65219e0",
   "metadata": {},
   "outputs": [],
   "source": [
    "result=[]\n",
    "for prediction in predictions:\n",
    "    for data in prediction:\n",
    "        result.extend(data)\n",
    "        \n",
    "len(result)"
   ]
  },
  {
   "cell_type": "code",
   "execution_count": null,
   "id": "cbc133ee",
   "metadata": {},
   "outputs": [],
   "source": [
    "frame = { 'ID': test.ID, 'Sales': result}\n",
    "sub14 = pd.DataFrame(frame)\n",
    "sub14.set_index('ID', inplace=True)\n",
    "sub14 = sub14.to_csv(\"sub14.csv\")"
   ]
  },
  {
   "cell_type": "markdown",
   "id": "94b51190",
   "metadata": {},
   "source": [
    "#### Finding Outliers:"
   ]
  },
  {
   "cell_type": "code",
   "execution_count": null,
   "id": "210dc108",
   "metadata": {},
   "outputs": [],
   "source": [
    "out = sns.boxplot(train_new[\"Sales\"])\n",
    "plt.show()"
   ]
  },
  {
   "cell_type": "code",
   "execution_count": null,
   "id": "6aabf824",
   "metadata": {},
   "outputs": [],
   "source": [
    "Q1 = train_new[\"Sales\"].quantile(0.25)\n",
    "Q3 = train_new[\"Sales\"].quantile(0.75)\n",
    "IQR = Q3 - Q1\n",
    "\n",
    "filter = (train_new[\"Sales\"] >= Q1 - 1.5 * IQR) & (train_new[\"Sales\"] <= Q3 + 1.5 *IQR)\n",
    "train2 = train_new.loc[filter]  \n",
    "print(\"data loss percentage {}%\".format(((len(train_new) - len(train2))/len(train_new))*100))\n"
   ]
  }
 ],
 "metadata": {
  "kernelspec": {
   "display_name": "Python 3",
   "language": "python",
   "name": "python3"
  },
  "language_info": {
   "codemirror_mode": {
    "name": "ipython",
    "version": 3
   },
   "file_extension": ".py",
   "mimetype": "text/x-python",
   "name": "python",
   "nbconvert_exporter": "python",
   "pygments_lexer": "ipython3",
   "version": "3.8.8"
  }
 },
 "nbformat": 4,
 "nbformat_minor": 5
}
